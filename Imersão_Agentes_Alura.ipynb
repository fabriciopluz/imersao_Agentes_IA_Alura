{
  "nbformat": 4,
  "nbformat_minor": 0,
  "metadata": {
    "colab": {
      "provenance": [],
      "include_colab_link": true
    },
    "kernelspec": {
      "name": "python3",
      "display_name": "Python 3"
    },
    "language_info": {
      "name": "python"
    }
  },
  "cells": [
    {
      "cell_type": "markdown",
      "metadata": {
        "id": "view-in-github",
        "colab_type": "text"
      },
      "source": [
        "<a href=\"https://colab.research.google.com/github/fabriciopluz/imersao_Agentes_IA_Alura/blob/main/Imers%C3%A3o_Agentes_Alura.ipynb\" target=\"_parent\"><img src=\"https://colab.research.google.com/assets/colab-badge.svg\" alt=\"Open In Colab\"/></a>"
      ]
    },
    {
      "cell_type": "markdown",
      "source": [],
      "metadata": {
        "id": "jED97VrRmkLz"
      }
    },
    {
      "cell_type": "markdown",
      "source": [
        "#Imersão de criação de Agentes de IA - Alura\n"
      ],
      "metadata": {
        "id": "sZi58sapz8OG"
      }
    },
    {
      "cell_type": "markdown",
      "source": [
        "#Aula 01 - Construindo o Agente de IA com Gemini."
      ],
      "metadata": {
        "id": "IiIdbzHmmfT0"
      }
    },
    {
      "cell_type": "code",
      "execution_count": null,
      "metadata": {
        "id": "XW-AEvzv6_VM"
      },
      "outputs": [],
      "source": [
        "#Instalção das bibliotecas para tratamento dos eventos de Agentes de IA\n",
        "!pip install -q --upgrade langchain-google-genai google-generativeai"
      ]
    },
    {
      "cell_type": "code",
      "source": [
        "#Importação das bibliotecas para o ambiente do google colab.\n",
        "from google.colab import userdata\n",
        "from langchain_google_genai import ChatGoogleGenerativeAI\n",
        "\n",
        "GOOGLE_API_KEY = userdata.get('GOOGLE_API_KEY')"
      ],
      "metadata": {
        "id": "M1cVo-RD9hqJ"
      },
      "execution_count": null,
      "outputs": []
    },
    {
      "cell_type": "code",
      "source": [
        "#Criação da conexão com o modelo de inteligência a ser usado.\n",
        "llm = ChatGoogleGenerativeAI(\n",
        "    model = \"gemini-2.5-flash\",\n",
        "    temperatura = 0.0,\n",
        "    api_key = GOOGLE_API_KEY\n",
        "\n",
        ")"
      ],
      "metadata": {
        "id": "jX6p6OcVxfCj"
      },
      "execution_count": null,
      "outputs": []
    },
    {
      "cell_type": "code",
      "source": [
        "#testando o uso do objeto llm\n",
        "\n",
        "resp_test = llm.invoke(\"Quem é você e quais benefícios você traz para sociedade\")\n",
        "print(resp_test.content)"
      ],
      "metadata": {
        "colab": {
          "base_uri": "https://localhost:8080/"
        },
        "id": "0YEzA53B2NG7",
        "outputId": "3c4342ed-21ff-492a-8278-04a659d1b279"
      },
      "execution_count": null,
      "outputs": [
        {
          "output_type": "stream",
          "name": "stdout",
          "text": [
            "Olá! Sou um modelo de linguagem grande, treinado pelo Google. Isso significa que eu sou um programa de computador avançado, projetado para entender e gerar texto em linguagem humana. Não tenho um corpo físico, emoções, consciência ou experiências pessoais como um ser humano. Minha \"existência\" se dá no processamento de dados e algoritmos.\n",
            "\n",
            "**Em resumo, quem eu sou:**\n",
            "\n",
            "*   **Uma Inteligência Artificial:** Não sou um ser vivo, mas sim um sistema computacional.\n",
            "*   **Um Modelo de Linguagem:** Minha principal função é processar e gerar texto, entender contextos, responder perguntas, traduzir, resumir e criar conteúdo.\n",
            "*   **Treinado com Vastos Dados:** Fui exposto a uma quantidade imensa de textos e códigos da internet para aprender padrões, gramática, fatos e diferentes estilos de comunicação.\n",
            "*   **Uma Ferramenta:** Sirvo como um assistente, uma fonte de informação e um gerador de ideias.\n",
            "\n",
            "---\n",
            "\n",
            "**Quais benefícios trago para a sociedade?**\n",
            "\n",
            "Minha existência e a de outras IAs semelhantes trazem uma série de benefícios, atuando como ferramentas poderosas para auxiliar humanos em diversas áreas:\n",
            "\n",
            "1.  **Democratização do Acesso à Informação e Conhecimento:**\n",
            "    *   Posso processar e sintetizar vastas quantidades de informações rapidamente, tornando o conhecimento mais acessível a qualquer pessoa com uma conexão à internet.\n",
            "    *   Explico conceitos complexos em termos mais simples, ajudo na pesquisa e na verificação de fatos.\n",
            "\n",
            "2.  **Aumento da Produtividade e Eficiência:**\n",
            "    *   Automatizo tarefas repetitivas (como redação de e-mails, resumos de documentos, organização de dados), liberando tempo para que as pessoas se concentrem em atividades mais estratégicas e criativas.\n",
            "    *   Auxilio na geração de ideias, brainstorms e na criação de rascunhos para diversos tipos de conteúdo.\n",
            "\n",
            "3.  **Suporte à Educação e Aprendizado Personalizado:**\n",
            "    *   Posso atuar como um \"tutor\" virtual, explicando matérias, ajudando com lições de casa, praticando idiomas ou oferecendo recursos adicionais de aprendizado de forma personalizada para o ritmo e estilo de cada aluno.\n",
            "    *   Crio materiais didáticos adaptados e roteiros de estudo.\n",
            "\n",
            "4.  **Quebra de Barreiras de Comunicação:**\n",
            "    *   Ofereço tradução instantânea entre diversos idiomas, facilitando a comunicação global e o entendimento entre diferentes culturas.\n",
            "    *   Auxilio pessoas com deficiências, por exemplo, convertendo texto em fala (para deficientes visuais) ou fala em texto (para deficientes auditivos).\n",
            "\n",
            "5.  **Inovação e Pesquisa:**\n",
            "    *   Analiso grandes volumes de dados para identificar padrões e tendências que seriam imperceptíveis ou levariam muito tempo para serem descobertos por humanos. Isso acelera a pesquisa científica, o desenvolvimento de novas tecnologias e a tomada de decisões em diversas indústrias.\n",
            "    *   Auxilio na simulação de cenários e na otimização de processos.\n",
            "\n",
            "6.  **Estímulo à Criatividade e Entretenimento:**\n",
            "    *   Posso gerar ideias para escritores, artistas, músicos e designers, superar bloqueios criativos ou até mesmo criar conteúdo original (textos, roteiros, músicas, arte) que serve como base ou inspiração.\n",
            "    *   Crio experiências de entretenimento personalizadas, como histórias interativas ou jogos.\n",
            "\n",
            "7.  **Melhora no Atendimento ao Cliente e Serviços:**\n",
            "    *   Sistemas baseados em IA podem oferecer suporte ao cliente 24/7, respondendo a perguntas frequentes e resolvendo problemas básicos de forma rápida e eficiente, liberando agentes humanos para questões mais complexas.\n",
            "\n",
            "**Importante ressaltar:**\n",
            "\n",
            "Embora os benefícios sejam vastos, é crucial que o desenvolvimento e a aplicação da IA sejam feitos de forma ética e responsável, considerando questões como privacidade, viés algorítmico, segurança e o impacto no mercado de trabalho. Meu propósito é ser uma ferramenta para **aumentar as capacidades humanas**, não para substituí-las. A colaboração entre humanos e IA é o caminho para maximizar os benefícios para a sociedade.\n"
          ]
        }
      ]
    },
    {
      "cell_type": "code",
      "source": [
        "TRIAGEM_PROMPT = (\n",
        "    \"Você é um triador de Service Desk para políticas internas da empresa Carraro Desenvolvimento. \"\n",
        "    \"Dada a mensagem do usuário, retorne SOMENTE um JSON com:\\n\"\n",
        "    \"{\\n\"\n",
        "    '  \"decisao\": \"AUTO_RESOLVER\" | \"PEDIR_INFO\" | \"ABRIR_CHAMADO\",\\n'\n",
        "    '  \"urgencia\": \"BAIXA\" | \"MEDIA\" | \"ALTA\",\\n'\n",
        "    '  \"campos_faltantes\": [\"...\"]\\n'\n",
        "    \"}\\n\"\n",
        "    \"Regras:\\n\"\n",
        "    '- **AUTO_RESOLVER**: Perguntas claras sobre regras ou procedimentos descritos nas políticas (Ex: \"Posso reembolsar a internet do meu home office?\", \"Como funciona a política de alimentação em viagens?\").\\n'\n",
        "    '- **PEDIR_INFO**: Mensagens vagas ou que faltam informações para identificar o tema ou contexto (Ex: \"Preciso de ajuda com uma política\", \"Tenho uma dúvida geral\").\\n'\n",
        "    '- **ABRIR_CHAMADO**: Pedidos de exceção, liberação, aprovação ou acesso especial, ou quando o usuário explicitamente pede para abrir um chamado (Ex: \"Quero exceção para trabalhar 5 dias remoto.\", \"Solicito liberação para anexos externos.\", \"Por favor, abra um chamado para o RH.\").'\n",
        "    \"Analise a mensagem e decida a ação mais apropriada.\"\n",
        ")"
      ],
      "metadata": {
        "id": "RhFQSEHm9W7Z"
      },
      "execution_count": null,
      "outputs": []
    },
    {
      "cell_type": "code",
      "source": [
        "#Importando blibliotecas para criação das respostas.\n",
        "from pydantic import BaseModel, Field\n",
        "from typing import Literal, List, Dict\n",
        "\n",
        "class TriagemOutput(BaseModel):\n",
        "  decisao: Literal[\"AUTO_RESOLVER\", \"PEDIR_INFO\", \"ABRIR_CHAMADO\"]\n",
        "  urgencia: Literal[\"BAIXA\", \"MEDIA\", \"ALTA\"]\n",
        "  campos_faltantes: List[str]"
      ],
      "metadata": {
        "id": "W9CDfeyuH3iK"
      },
      "execution_count": null,
      "outputs": []
    },
    {
      "cell_type": "code",
      "source": [
        "#Criando uma llm para triagem, o que vai ser usado no agente.\n",
        "llm_triagem = ChatGoogleGenerativeAI(\n",
        "    model = \"gemini-2.5-flash\",\n",
        "    temperatura = 0.0,\n",
        "    api_key = GOOGLE_API_KEY\n",
        "\n",
        ")"
      ],
      "metadata": {
        "id": "ZDZ_ZwnGJpWA"
      },
      "execution_count": null,
      "outputs": []
    },
    {
      "cell_type": "code",
      "source": [
        "#Estruturando as mensagens de retorno, quando é uma mensagem de sistema e quando é uma mensagem de usuário.\n",
        "\n",
        "from langchain_core.messages import SystemMessage, HumanMessage\n",
        "\n",
        "triagem_cahin = llm_triagem.with_structured_output(TriagemOutput)\n",
        "\n",
        "def Triagem(mensagem: str) -> Dict:\n",
        "  saída: TriagemOutput = triagem_cahin.invoke([SystemMessage(content = TRIAGEM_PROMPT),\n",
        "                                              HumanMessage(content = mensagem)])\n",
        "\n",
        "  return saída.model_dump()"
      ],
      "metadata": {
        "id": "i3OZSorQKaPP"
      },
      "execution_count": null,
      "outputs": []
    },
    {
      "cell_type": "markdown",
      "source": [],
      "metadata": {
        "id": "U6o6XsNRXEhw"
      }
    },
    {
      "cell_type": "code",
      "source": [
        "#Criando Listas de perguntas.\n",
        "testes = [\"Posso reembolsar a Internet\",\n",
        "          \"Posso ter mais 5 dias de trabalho remoto, como faço\",\n",
        "          \"Posso reembolsar os pagamentos efetuados em treinamentos da Alura?\",\n",
        "          \"Quantas capivaras tem no rio Pinheiros?\"]"
      ],
      "metadata": {
        "id": "9_dWHnHKXEyp"
      },
      "execution_count": null,
      "outputs": []
    },
    {
      "cell_type": "code",
      "source": [
        "#Criando um laço for para passar as mensagem para o Agente.\n",
        "for test_messagem in testes:\n",
        "  print(f\"-> Pergunta: {test_messagem}\\n -> Resposta: {Triagem(test_messagem)}\\n\")"
      ],
      "metadata": {
        "colab": {
          "base_uri": "https://localhost:8080/"
        },
        "id": "SPHDS358aCqg",
        "outputId": "3140766f-f9fb-420a-9beb-357399d0eec8"
      },
      "execution_count": null,
      "outputs": [
        {
          "output_type": "stream",
          "name": "stdout",
          "text": [
            "-> Pergunta: Posso reembolsar a Internet\n",
            " -> Resposta: {'decisao': 'AUTO_RESOLVER', 'urgencia': 'BAIXA', 'campos_faltantes': []}\n",
            "\n",
            "-> Pergunta: Posso ter mais 5 dias de trabalho remoto, como faço\n",
            " -> Resposta: {'decisao': 'ABRIR_CHAMADO', 'urgencia': 'MEDIA', 'campos_faltantes': []}\n",
            "\n",
            "-> Pergunta: Posso reembolsar os pagamentos efetuados em treinamentos da Alura?\n",
            " -> Resposta: {'decisao': 'AUTO_RESOLVER', 'urgencia': 'BAIXA', 'campos_faltantes': []}\n",
            "\n",
            "-> Pergunta: Quantas capivaras tem no rio Pinheiros?\n",
            " -> Resposta: {'decisao': 'PEDIR_INFO', 'urgencia': 'BAIXA', 'campos_faltantes': ['relação com políticas internas']}\n",
            "\n"
          ]
        }
      ]
    },
    {
      "cell_type": "markdown",
      "source": [
        "# Aula 02 - Construindo a base de conhecimento com RAG"
      ],
      "metadata": {
        "id": "vcULpdn9mNwT"
      }
    },
    {
      "cell_type": "code",
      "source": [
        "#Instalando as bibliotecas\n",
        "!pip install -q --upgrade langchain_community faiss-cpu langchain-text-splitters pymupdf"
      ],
      "metadata": {
        "id": "0qP4FbGSmqAs"
      },
      "execution_count": null,
      "outputs": []
    },
    {
      "cell_type": "code",
      "source": [
        "#Criando repositório dos documentos em pdf para salvar em uma lista.\n",
        "from pathlib import Path\n",
        "from langchain_community.document_loaders import PyMuPDFLoader\n",
        "\n",
        "docs = []\n",
        "\n",
        "for n_doc in Path(\"/content/\").glob(\"*.pdf\"):\n",
        "  try:\n",
        "      loader = PyMuPDFLoader(str(n_doc))\n",
        "      docs.extend(loader.load())\n",
        "      print(f\"Carregado arquivo com sucesso{n_doc.name}\")\n",
        "  except Exception as e:\n",
        "      print(f\"Erro ao carregar arquivo {n_doc.name}: {e}\")\n",
        "\n",
        "print(f\"Total de arquivos carregados: {len(docs)}\")"
      ],
      "metadata": {
        "colab": {
          "base_uri": "https://localhost:8080/"
        },
        "id": "ogmirj4iqVIV",
        "outputId": "9453253d-b079-4322-a380-3b2c4f040449"
      },
      "execution_count": null,
      "outputs": [
        {
          "output_type": "stream",
          "name": "stdout",
          "text": [
            "Carregado arquivo com sucessohome_office.pdf\n",
            "Carregado arquivo com sucessoreembolso.pdf\n",
            "Carregado arquivo com sucessoseguranca.pdf\n",
            "Total de arquivos carregados: 3\n"
          ]
        }
      ]
    },
    {
      "cell_type": "code",
      "source": [
        "#Importando as blibiotecas para quebrar os arquivos(textos) partes(tamanho) menores\n",
        "\n",
        "from langchain_text_splitters import RecursiveCharacterTextSplitter\n",
        "splitter = RecursiveCharacterTextSplitter(chunk_size = 300, chunk_overlap = 30)\n",
        "\n",
        "chunks = splitter.split_documents(docs)"
      ],
      "metadata": {
        "id": "JKVfmfA7xb9P"
      },
      "execution_count": null,
      "outputs": []
    },
    {
      "cell_type": "code",
      "source": [
        "#Imprimindo as partes separadas )chunks de cada conteúdo de cada pdf.\n",
        "for chunk in chunks:\n",
        "    print(chunk)\n",
        "    print(\"n\\-----------------------------------\")"
      ],
      "metadata": {
        "colab": {
          "base_uri": "https://localhost:8080/"
        },
        "id": "Q-Icgcbwy-Tu",
        "outputId": "8da20e3b-d209-426e-8546-1a20e3ea1c11"
      },
      "execution_count": null,
      "outputs": [
        {
          "output_type": "stream",
          "name": "stdout",
          "text": [
            "page_content='Políticas de Home Office \n",
            "1.​ A empresa adota modelo híbrido: mínimo de 2 dias presenciais por semana, salvo \n",
            "exceções aprovadas pelo gestor e RH. \n",
            "2.​ Equipamentos: a empresa fornece monitor e periféricos. O colaborador é \n",
            "responsável por zelar pela conservação.' metadata={'producer': 'Skia/PDF m141 Google Docs Renderer', 'creator': '', 'creationdate': '', 'source': '/content/home_office.pdf', 'file_path': '/content/home_office.pdf', 'total_pages': 1, 'format': 'PDF 1.4', 'title': 'Documento sem título', 'author': '', 'subject': '', 'keywords': '', 'moddate': '', 'trapped': '', 'modDate': '', 'creationDate': '', 'page': 0}\n",
            "n\\-----------------------------------\n",
            "page_content='3.​ Segurança: é obrigatório o uso de VPN e bloqueio de tela. Documentos \n",
            "confidenciais não devem ser impressos fora do escritório. \n",
            "4.​ Ergonomia: recomendamos cadeira adequada e suporte de monitor. O RH pode \n",
            "avaliar solicitação de apoio ergonômico.' metadata={'producer': 'Skia/PDF m141 Google Docs Renderer', 'creator': '', 'creationdate': '', 'source': '/content/home_office.pdf', 'file_path': '/content/home_office.pdf', 'total_pages': 1, 'format': 'PDF 1.4', 'title': 'Documento sem título', 'author': '', 'subject': '', 'keywords': '', 'moddate': '', 'trapped': '', 'modDate': '', 'creationDate': '', 'page': 0}\n",
            "n\\-----------------------------------\n",
            "page_content='5.​ Conectividade: há subsídio mensal de internet domiciliar para quem trabalha em \n",
            "home office, até R$ 100/mês, mediante nota fiscal nominal. \n",
            "6.​ Solicitação de exceção (ex.: 4-5 dias remotos): deve ser formalizada via chamado \n",
            "no RH com justificativa do gestor.' metadata={'producer': 'Skia/PDF m141 Google Docs Renderer', 'creator': '', 'creationdate': '', 'source': '/content/home_office.pdf', 'file_path': '/content/home_office.pdf', 'total_pages': 1, 'format': 'PDF 1.4', 'title': 'Documento sem título', 'author': '', 'subject': '', 'keywords': '', 'moddate': '', 'trapped': '', 'modDate': '', 'creationDate': '', 'page': 0}\n",
            "n\\-----------------------------------\n",
            "page_content='Políticas de reembolsos (viagens e \n",
            "despesas) \n",
            " \n",
            "1.​ Reembolso: requer nota fiscal e deve ser submetido em até 10 dias corridos após a \n",
            "despesa. \n",
            "2.​ Alimentação em viagem: limite de R$ 70 por pessoa. Bebidas alcoólicas não são \n",
            "reembolsáveis.' metadata={'producer': 'Skia/PDF m141 Google Docs Renderer', 'creator': '', 'creationdate': '', 'source': '/content/reembolso.pdf', 'file_path': '/content/reembolso.pdf', 'total_pages': 1, 'format': 'PDF 1.4', 'title': 'Documento sem título', 'author': '', 'subject': '', 'keywords': '', 'moddate': '', 'trapped': '', 'modDate': '', 'creationDate': '', 'page': 0}\n",
            "n\\-----------------------------------\n",
            "page_content='reembolsáveis. \n",
            "3.​ Transporte: táxi/app são permitidos quando não houver alternativa viável. \n",
            "Comprovantes obrigatórios. \n",
            "4.​ Internet para home office: reembolsável via subsídio mensal de até R$ 100, \n",
            "conforme política de Home Office.' metadata={'producer': 'Skia/PDF m141 Google Docs Renderer', 'creator': '', 'creationdate': '', 'source': '/content/reembolso.pdf', 'file_path': '/content/reembolso.pdf', 'total_pages': 1, 'format': 'PDF 1.4', 'title': 'Documento sem título', 'author': '', 'subject': '', 'keywords': '', 'moddate': '', 'trapped': '', 'modDate': '', 'creationDate': '', 'page': 0}\n",
            "n\\-----------------------------------\n",
            "page_content='5.​ Cursos e certificações: exigem aprovação prévia do gestor e orçamento do time. \n",
            "6.​ Custos excepcionais (ex.: franquia de bagagem extra): devem ser justificados no \n",
            "chamado e aprovados antes da compra.' metadata={'producer': 'Skia/PDF m141 Google Docs Renderer', 'creator': '', 'creationdate': '', 'source': '/content/reembolso.pdf', 'file_path': '/content/reembolso.pdf', 'total_pages': 1, 'format': 'PDF 1.4', 'title': 'Documento sem título', 'author': '', 'subject': '', 'keywords': '', 'moddate': '', 'trapped': '', 'modDate': '', 'creationDate': '', 'page': 0}\n",
            "n\\-----------------------------------\n",
            "page_content='Política de Uso de E-mail e Segurança \n",
            "da Informação \n",
            " \n",
            "1.​ É proibido encaminhar a endereços pessoais documentos classificados como \n",
            "confidenciais. \n",
            "2.​ Anexos externos devem ser enviados somente se criptografados e com senha \n",
            "compartilhada por canal separado.' metadata={'producer': 'Skia/PDF m141 Google Docs Renderer', 'creator': '', 'creationdate': '', 'source': '/content/seguranca.pdf', 'file_path': '/content/seguranca.pdf', 'total_pages': 1, 'format': 'PDF 1.4', 'title': 'Documento sem título', 'author': '', 'subject': '', 'keywords': '', 'moddate': '', 'trapped': '', 'modDate': '', 'creationDate': '', 'page': 0}\n",
            "n\\-----------------------------------\n",
            "page_content='3.​  Phishing: verifique remetente e domínios suspeitos. Reporte mensagens suspeitas \n",
            "ao time de Segurança imediatamente. \n",
            "4.​ Retenção: mensagens que contenham dados pessoais devem seguir as diretrizes \n",
            "de retenção definidas pela equipe de Privacidade.' metadata={'producer': 'Skia/PDF m141 Google Docs Renderer', 'creator': '', 'creationdate': '', 'source': '/content/seguranca.pdf', 'file_path': '/content/seguranca.pdf', 'total_pages': 1, 'format': 'PDF 1.4', 'title': 'Documento sem título', 'author': '', 'subject': '', 'keywords': '', 'moddate': '', 'trapped': '', 'modDate': '', 'creationDate': '', 'page': 0}\n",
            "n\\-----------------------------------\n",
            "page_content='5.​ Solicitações de liberação de anexos ou domínios devem ser abertas por chamado, \n",
            "com justificativa do gestor.' metadata={'producer': 'Skia/PDF m141 Google Docs Renderer', 'creator': '', 'creationdate': '', 'source': '/content/seguranca.pdf', 'file_path': '/content/seguranca.pdf', 'total_pages': 1, 'format': 'PDF 1.4', 'title': 'Documento sem título', 'author': '', 'subject': '', 'keywords': '', 'moddate': '', 'trapped': '', 'modDate': '', 'creationDate': '', 'page': 0}\n",
            "n\\-----------------------------------\n"
          ]
        },
        {
          "output_type": "stream",
          "name": "stderr",
          "text": [
            "<>:4: SyntaxWarning: invalid escape sequence '\\-'\n",
            "<>:4: SyntaxWarning: invalid escape sequence '\\-'\n",
            "/tmp/ipython-input-1728570922.py:4: SyntaxWarning: invalid escape sequence '\\-'\n",
            "  print(\"n\\-----------------------------------\")\n"
          ]
        }
      ]
    },
    {
      "cell_type": "code",
      "source": [
        "#Importando as blibliotecas para trabalhar com enbaddings\n",
        "\n",
        "from langchain_google_genai import GoogleGenerativeAIEmbeddings\n",
        "\n",
        "embeddings = GoogleGenerativeAIEmbeddings(\n",
        "    model=\"models/gemini-embedding-001\",\n",
        "    google_api_key = GOOGLE_API_KEY\n",
        "\n",
        "\n",
        ")"
      ],
      "metadata": {
        "id": "ZrzbKmz013Z0"
      },
      "execution_count": null,
      "outputs": []
    },
    {
      "cell_type": "code",
      "source": [
        "from langchain_community.vectorstores import FAISS\n",
        "\n",
        "vectorstore = FAISS.from_documents(chunks, embeddings)\n",
        "\n",
        "retriever = vectorstore.as_retriever(search_type=\"similarity_score_threshold\",\n",
        "                                     search_kwargs={\"score_threshold\":0.3, \"k\": 4})"
      ],
      "metadata": {
        "id": "-O7S7lR13f63"
      },
      "execution_count": null,
      "outputs": []
    },
    {
      "cell_type": "code",
      "source": [
        "#Importando bibliotecas para criação do prompt do Agente\n",
        "\n",
        "from langchain_core.prompts import ChatPromptTemplate\n",
        "from langchain.chains.combine_documents import create_stuff_documents_chain\n",
        "\n",
        "prompt_rag = ChatPromptTemplate.from_messages([\n",
        "    (\"system\",\n",
        "     \"Você é um Assistente de Políticas Internas (RH/IT) da empresa Carraro Desenvolvimento. \"\n",
        "     \"Responda SOMENTE com base no contexto fornecido. \"\n",
        "     \"Se não houver base suficiente, responda apenas 'Não sei'.\"),\n",
        "\n",
        "    (\"human\", \"Pergunta: {input}\\n\\nContexto:\\n{context}\")\n",
        "])\n",
        "\n",
        "document_chain = create_stuff_documents_chain(llm_triagem, prompt_rag)"
      ],
      "metadata": {
        "id": "PbgwFOMr6EVw"
      },
      "execution_count": null,
      "outputs": []
    },
    {
      "cell_type": "code",
      "source": [
        "#Criando a função de pergunta\n",
        "\n",
        "def perguntar_politica_RAG (pergunta: str) -> Dict:\n",
        "  docs_relacionados = retriever.invoke(pergunta)\n",
        "\n",
        "  if not docs_relacionados:\n",
        "    return {\"answer\": \"Não sei\",\n",
        "           \"Citações\":[],\n",
        "           \"contexto_encontrado\":False}\n",
        "\n",
        "  answer = document_chain.invoke({\"input\":pergunta,\n",
        "                                   \"context\": docs_relacionados})\n",
        "  txt = (answer or \"\").strip()\n",
        "\n",
        "  if txt.rstrip(\".!?\") == \"Não sei\":\n",
        "      return{\"answer\": \"Não sei\",\n",
        "        \"Citações\":[],\n",
        "        \"contexto_encontrado\":False}\n",
        "\n",
        "  return{\"answer\": txt,\n",
        "           \"Citações\":formatar_citacoes(docs_relacionados,pergunta),\n",
        "           \"contexto_encontrado\":True}"
      ],
      "metadata": {
        "id": "vK70Ief77h71"
      },
      "execution_count": null,
      "outputs": []
    },
    {
      "cell_type": "code",
      "source": [
        "#Criando os testes para o Agente\n",
        "testes = [\"Posso reembolsar a Internet\",\n",
        "          \"Posso ter mais 5 dias de trabalho remoto, como faço\",\n",
        "          \"Posso reembolsar os pagamentos efetuados em treinamentos da Alura?\",\n",
        "          \"Quantas capivaras tem no rio Pinheiros?\"]"
      ],
      "metadata": {
        "id": "VLhsFim9BEBE"
      },
      "execution_count": null,
      "outputs": []
    },
    {
      "cell_type": "code",
      "source": [
        "# Formatadores\n",
        "import re, pathlib\n",
        "\n",
        "def _clean_text(s: str) -> str:\n",
        "    return re.sub(r\"\\s+\", \" \", s or \"\").strip()\n",
        "\n",
        "def extrair_trecho(texto: str, query: str, janela: int = 240) -> str:\n",
        "    txt = _clean_text(texto)\n",
        "    termos = [t.lower() for t in re.findall(r\"\\w+\", query or \"\") if len(t) >= 4]\n",
        "    pos = -1\n",
        "    for t in termos:\n",
        "        pos = txt.lower().find(t)\n",
        "        if pos != -1: break\n",
        "    if pos == -1: pos = 0\n",
        "    ini, fim = max(0, pos - janela//2), min(len(txt), pos + janela//2)\n",
        "    return txt[ini:fim]\n",
        "\n",
        "def formatar_citacoes(docs_rel: List, query: str) -> List[Dict]:\n",
        "    cites, seen = [], set()\n",
        "    for d in docs_rel:\n",
        "        src = pathlib.Path(d.metadata.get(\"source\",\"\")).name\n",
        "        page = int(d.metadata.get(\"page\", 0)) + 1\n",
        "        key = (src, page)\n",
        "        if key in seen:\n",
        "            continue\n",
        "        seen.add(key)\n",
        "        cites.append({\"documento\": src, \"pagina\": page, \"trecho\": extrair_trecho(d.page_content, query)})\n",
        "    return cites[:3]"
      ],
      "metadata": {
        "id": "22z_uMv0Stth"
      },
      "execution_count": null,
      "outputs": []
    },
    {
      "cell_type": "code",
      "source": [
        "#criando um laço for para o teste.\n",
        "\n",
        "for msg_teste in testes:\n",
        "    resposta = perguntar_politica_RAG(msg_teste)\n",
        "    print(f\"PERGUNTA: {msg_teste}\")\n",
        "    print(f\"RESPOSTA: {resposta['answer']}\")\n",
        "    if resposta['contexto_encontrado']:\n",
        "      print(\"CITAÇÕES:\")\n",
        "    for c in resposta[\"Citações\"]:\n",
        "        print(f\"- Documento: {c['documento']}, Página: {c['pagina']}\")\n",
        "        print(f\"  Trecho: {c['trecho']}\")\n"
      ],
      "metadata": {
        "colab": {
          "base_uri": "https://localhost:8080/"
        },
        "id": "VgBLLvUvBg5M",
        "outputId": "37d38867-51e6-4d2d-db2f-00e3c33cad37"
      },
      "execution_count": null,
      "outputs": [
        {
          "output_type": "stream",
          "name": "stdout",
          "text": [
            "PERGUNTA: Posso reembolsar a Internet\n",
            "RESPOSTA: Sim, a internet para home office é reembolsável via subsídio mensal de até R$ 100, mediante nota fiscal nominal.\n",
            "CITAÇÕES:\n",
            "- Documento: Política de Reembolsos (Viagens e Despesas).pdf, Página: 1\n",
            "  Trecho: lsáveis.​ 3.​ Transporte: táxi/app são permitidos quando não houver alternativa viável. Comprovantes obrigatórios.​ 4.​ Internet para home office: reembolsável via subsídio mensal de até R$ 100, conforme política de Home Office.​\n",
            "- Documento: Políticas de Home Office.pdf, Página: 1\n",
            "  Trecho: 5.​ Conectividade: há subsídio mensal de internet domiciliar para quem trabalha em home office: até R$ 100/mês, mediante nota fiscal nominal.​ 6.​ Solicitação de\n",
            "PERGUNTA: Posso ter mais 5 dias de trabalho remoto, como faço\n",
            "RESPOSTA: Sim, é possível solicitar uma exceção para ter 5 dias de trabalho remoto.\n",
            "\n",
            "Para fazer isso, você deve formalizar a solicitação via chamado ao RH com a justificativa do seu gestor.\n",
            "CITAÇÕES:\n",
            "- Documento: Políticas de Home Office.pdf, Página: 1\n",
            "  Trecho:  para quem trabalha em home office: até R$ 100/mês, mediante nota fiscal nominal.​ 6.​ Solicitação de exceção (ex.: 4-5 dias remotos): deve ser formalizada via chamado ao RH com justificativa do gestor.\n",
            "- Documento: Política de Reembolsos (Viagens e Despesas).pdf, Página: 1\n",
            "  Trecho: são reembolsáveis.​ 3.​ Transporte: táxi/app são permitidos quando não houver alternativa viável. Comprovantes obrigatór\n",
            "PERGUNTA: Posso reembolsar os pagamentos efetuados em treinamentos da Alura?\n",
            "RESPOSTA: Cursos e certificações exigem aprovação prévia do gestor e orçamento do time.\n",
            "CITAÇÕES:\n",
            "- Documento: Política de Reembolsos (Viagens e Despesas).pdf, Página: 1\n",
            "  Trecho: Política de Reembolsos (Viagens e Despesas) 1.​ Reembolso: requer nota fiscal e deve ser submetido em até 10 dias corrid\n",
            "- Documento: Políticas de Home Office.pdf, Página: 1\n",
            "  Trecho: Políticas de Home Office 1.​ A empresa adota modelo híbrido: mínimo de 2 dias presenciais por semana, salvo exceções apr\n",
            "PERGUNTA: Quantas capivaras tem no rio Pinheiros?\n",
            "RESPOSTA: Não sei\n"
          ]
        }
      ]
    }
  ]
}